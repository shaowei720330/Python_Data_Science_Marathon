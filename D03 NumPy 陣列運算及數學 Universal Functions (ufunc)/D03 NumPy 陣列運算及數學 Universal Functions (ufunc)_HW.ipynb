{
 "cells": [
  {
   "cell_type": "markdown",
   "metadata": {
    "id": "rY2oyzUo2wKZ"
   },
   "source": [
    "作業目標:<br>\n",
    "嘗試練習log的函式並應用<br>\n",
    "作業重點:<br>\n",
    "學員需要複習log的轉換方式<br>\n",
    "熟悉運用指數函數以及對數函數"
   ]
  },
  {
   "cell_type": "markdown",
   "metadata": {
    "id": "Esjhs7zz2y95"
   },
   "source": [
    "題目:<br>\n",
    "運用投影片中的分貝公式回答下列問題。<br>\n",
    "1.正常的談話的聲壓為20000微巴斯卡，請問多少分貝?<br>\n",
    "2.30分貝的聲壓會是50分貝的幾倍?\n"
   ]
  },
  {
   "cell_type": "code",
   "execution_count": 1,
   "metadata": {
    "id": "SKVoN9E82yQi"
   },
   "outputs": [],
   "source": [
    "import numpy as np "
   ]
  },
  {
   "cell_type": "code",
   "execution_count": 4,
   "metadata": {},
   "outputs": [
    {
     "name": "stdout",
     "output_type": "stream",
     "text": [
      "60.0\n"
     ]
    }
   ],
   "source": [
    "#1.正常的談話的聲壓為20000微巴斯卡，請問多少分貝?\n",
    "#請寫下程式\n",
    "\n",
    "V1 = 20000\n",
    "V0 = 20\n",
    "\n",
    "Gdb = 20 * np.log10(V1/V0)\n",
    "print(Gdb)"
   ]
  },
  {
   "cell_type": "markdown",
   "metadata": {},
   "source": [
    "$$\n",
    "\\mathrm{dB}=20\\times \\log _{10}\\left( \\frac{\\mu \\mathrm{Pa}}{20} \\right) \n",
    "\\\\\n",
    "\\mu \\mathrm{Pa}=20\\times 10^{\\left( \\frac{\\mathrm{dB}}{20} \\right)}\n",
    "$$\n",
    "\n",
    "http://www.mingdao.edu.tw/senior/ncov/doc0/108%E5%AD%B8%E5%B9%B4%E5%BA%A6%E4%B8%8A%E5%AD%B8%E6%9C%9F%E9%AB%98%E4%B8%80%E6%95%B8%E5%AD%B8%E5%AD%B8%E7%BF%92%E6%88%90%E6%9E%9C%E3%80%90%E6%95%B8%E5%AD%97%E6%90%9C%E6%9F%A5%E7%B7%9A(%E6%95%99%E7%94%A8)%E3%80%91.pdf\n",
    "https://stackoverflow.com/questions/51669367/how-to-get-the-inverse-of-a-log10-value-in-python"
   ]
  },
  {
   "cell_type": "code",
   "execution_count": 9,
   "metadata": {},
   "outputs": [
    {
     "name": "stdout",
     "output_type": "stream",
     "text": [
      "632.4555320336759\n",
      "6324.55532033676\n"
     ]
    }
   ],
   "source": [
    "#2.30分貝的聲壓會是50分貝的幾倍?\n",
    "# 先將公式改寫：V1 = 10 ** ((Gdb / 20) + log10V0)\n",
    "V1_for30Gdb = 10 ** ((30 / 20) + np.log10(20))\n",
    "V1_for50Gdb = 10 ** ((50 / 20) + np.log10(20))\n",
    "\n",
    "print(V1_for30Gdb)\n",
    "print(V1_for50Gdb)"
   ]
  },
  {
   "cell_type": "code",
   "execution_count": 14,
   "metadata": {},
   "outputs": [
    {
     "name": "stdout",
     "output_type": "stream",
     "text": [
      "0.1\n"
     ]
    }
   ],
   "source": [
    "result = round((V1_for30Gdb / V1_for50Gdb), 1)\n",
    "print(result)"
   ]
  }
 ],
 "metadata": {
  "colab": {
   "authorship_tag": "ABX9TyNuy8nFyZsCqfcHKKs2ys9H",
   "collapsed_sections": [],
   "name": "作業_Hong題目.ipynb",
   "provenance": []
  },
  "kernelspec": {
   "display_name": "Python 3",
   "language": "python",
   "name": "python3"
  },
  "language_info": {
   "codemirror_mode": {
    "name": "ipython",
    "version": 3
   },
   "file_extension": ".py",
   "mimetype": "text/x-python",
   "name": "python",
   "nbconvert_exporter": "python",
   "pygments_lexer": "ipython3",
   "version": "3.8.5"
  }
 },
 "nbformat": 4,
 "nbformat_minor": 1
}
