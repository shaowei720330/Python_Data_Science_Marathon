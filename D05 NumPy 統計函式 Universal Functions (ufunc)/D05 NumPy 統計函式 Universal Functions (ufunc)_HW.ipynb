{
 "cells": [
  {
   "cell_type": "markdown",
   "metadata": {
    "id": "oef8c2jr-PZY"
   },
   "source": [
    "作業目標<br>\n",
    "計算有缺失值的資料，統計量實作<br>\n",
    "作業重點<br>\n",
    "當遇到缺失值有函式可以處理，不須額外寫程式刪除<br>\n",
    "計算統計量時不能出現缺失值"
   ]
  },
  {
   "cell_type": "markdown",
   "metadata": {
    "id": "4YgL8NF4-Ru3"
   },
   "source": [
    "題目:<br>\n",
    "english_score = np.array([55,89,76,65,48,70])<br>\n",
    "math_score = np.array([60,85,60,68,np.nan,60])<br>\n",
    "chinese_score = np.array([65,90,82,72,66,77])<br>\n",
    "上3列共六位同學的英文、數學、國文成績，第一個元素代表第一位同學，舉例第一位同學英文55分、數學60分、國文65分，今天第五位同學因某原因沒來考試，導致數學成績缺值，運用上列數據回答下列問題。<br>\n",
    "1. 請計算各科成績平均、最大值、最小值、標準差，其中數學缺一筆資料可忽略?\n",
    "2. 第五位同學補考數學後成績為55，請計算補考後數學成績平均、最大值、最小值、標準差?\n",
    "3. 用補考後資料找出與國文成績相關係數最高的學科?"
   ]
  },
  {
   "cell_type": "code",
   "execution_count": 1,
   "metadata": {
    "executionInfo": {
     "elapsed": 617,
     "status": "ok",
     "timestamp": 1609854566856,
     "user": {
      "displayName": "献竤黃",
      "photoUrl": "",
      "userId": "07529243043474362942"
     },
     "user_tz": -480
    },
    "id": "QwsKU8qO-RK7"
   },
   "outputs": [],
   "source": [
    "import numpy as np"
   ]
  },
  {
   "cell_type": "code",
   "execution_count": 2,
   "metadata": {
    "executionInfo": {
     "elapsed": 1016,
     "status": "ok",
     "timestamp": 1609854567261,
     "user": {
      "displayName": "献竤黃",
      "photoUrl": "",
      "userId": "07529243043474362942"
     },
     "user_tz": -480
    },
    "id": "B5BqDQAe_czh"
   },
   "outputs": [],
   "source": [
    "english_score = np.array([55,89,76,65,48,70])\n",
    "math_score = np.array([60,85,60,68,np.nan,60])\n",
    "chinese_score = np.array([65,90,82,72,66,77])"
   ]
  },
  {
   "cell_type": "code",
   "execution_count": null,
   "metadata": {},
   "outputs": [],
   "source": [
    "english_mean = np.mean(english_mean)\n",
    "math_mean = np.nanmean(math_score)\n",
    "chinese_mean = np.mean(chinese_score)"
   ]
  },
  {
   "cell_type": "code",
   "execution_count": 7,
   "metadata": {},
   "outputs": [
    {
     "name": "stdout",
     "output_type": "stream",
     "text": [
      "平均：英文67.16666666666667、數學66.6、國文75.33333333333333\n",
      "最大值：英文89、數學85.0、國文90\n",
      "最小值：英文48、數學60.0、國文65\n",
      "標準差：英文13.433995020924426、數學9.707728879609279、國文8.825468196582484\n"
     ]
    }
   ],
   "source": [
    "#1. 請計算各科成績平均、最大值、最小值、標準差，其中數學缺一筆資料可忽略?\n",
    "print('平均：英文{}、數學{}、國文{}' .format(np.mean(english_score), np.nanmean(math_score), np.mean(chinese_score)))\n",
    "print('最大值：英文{}、數學{}、國文{}' .format(np.max(english_score), np.nanmax(math_score), np.max(chinese_score)))\n",
    "print('最小值：英文{}、數學{}、國文{}' .format(np.min(english_score), np.nanmin(math_score), np.min(chinese_score)))\n",
    "print('標準差：英文{}、數學{}、國文{}' .format(np.std(english_score), np.nanstd(math_score), np.std(chinese_score)))\n"
   ]
  },
  {
   "cell_type": "code",
   "execution_count": 8,
   "metadata": {},
   "outputs": [
    {
     "name": "stdout",
     "output_type": "stream",
     "text": [
      "數學 平均:數學64.66666666666667\n",
      "數學 最大值:數學85.0\n",
      "數學 最小值:數學55.0\n",
      "數學 標準差:數學9.860132971832694\n"
     ]
    }
   ],
   "source": [
    "#2. 第五位同學補考數學後成績為55，請計算補考後數學成績平均、最大值、最小值、標準差?\n",
    "math_score[4] = 55\n",
    "print('數學 平均:數學{}' .format(np.mean(math_score)))\n",
    "print('數學 最大值:數學{0}'.format(np.max(math_score)))\n",
    "print('數學 最小值:數學{0}'.format(np.min(math_score)))\n",
    "print('數學 標準差:數學{0}'.format(np.std(math_score)))"
   ]
  },
  {
   "cell_type": "code",
   "execution_count": 16,
   "metadata": {},
   "outputs": [
    {
     "name": "stdout",
     "output_type": "stream",
     "text": [
      "國文 與 其他科目的相關係數：\n",
      "[[1.         0.74056803 0.97792828]\n",
      " [0.74056803 1.         0.7855563 ]\n",
      " [0.97792828 0.7855563  1.        ]]\n"
     ]
    }
   ],
   "source": [
    "#3. 用補考後資料找出與國文成績相關係數最高的學科?\n",
    "print('國文 與 其他科目的相關係數：\\n{}' .format(np.corrcoef([chinese_score, math_score, english_score])))  # 若傳入的陣列不只一個的話，就要用中括號括起來"
   ]
  },
  {
   "cell_type": "markdown",
   "metadata": {},
   "source": [
    "國文與英文的關係最貼近."
   ]
  }
 ],
 "metadata": {
  "colab": {
   "authorship_tag": "ABX9TyPtywwDR7TsGGEOMGYLDT5h",
   "collapsed_sections": [],
   "name": "作業Hong題目.ipynb",
   "provenance": []
  },
  "kernelspec": {
   "display_name": "Python 3",
   "language": "python",
   "name": "python3"
  },
  "language_info": {
   "codemirror_mode": {
    "name": "ipython",
    "version": 3
   },
   "file_extension": ".py",
   "mimetype": "text/x-python",
   "name": "python",
   "nbconvert_exporter": "python",
   "pygments_lexer": "ipython3",
   "version": "3.8.5"
  }
 },
 "nbformat": 4,
 "nbformat_minor": 1
}
